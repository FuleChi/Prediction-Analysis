{
 "cells": [
  {
   "cell_type": "markdown",
   "id": "18212b9c",
   "metadata": {},
   "source": [
    "## Step 1. Data Collection"
   ]
  },
  {
   "cell_type": "code",
   "execution_count": 8,
   "id": "71d1fca0",
   "metadata": {},
   "outputs": [],
   "source": [
    "import pandas as pd\n",
    "import numpy as np\n",
    "import seaborn as sns\n",
    "import sklearn.linear_model as lr\n",
    "import sklearn.model_selection as train_test_split\n",
    "from matplotlib import pyplot as plt\n",
    "import matplotlib"
   ]
  },
  {
   "cell_type": "code",
   "execution_count": 9,
   "id": "a0a1bbfd",
   "metadata": {},
   "outputs": [],
   "source": [
    "df = pd.read_csv('dataset_risk_analytics.csv')"
   ]
  },
  {
   "cell_type": "markdown",
   "id": "07cf9074",
   "metadata": {},
   "source": [
    "## Step2. Data Exploration"
   ]
  },
  {
   "cell_type": "code",
   "execution_count": 10,
   "id": "c23b3e01",
   "metadata": {},
   "outputs": [
    {
     "name": "stdout",
     "output_type": "stream",
     "text": [
      "<class 'pandas.core.frame.DataFrame'>\n",
      "RangeIndex: 5783 entries, 0 to 5782\n",
      "Data columns (total 11 columns):\n",
      " #   Column                     Non-Null Count  Dtype  \n",
      "---  ------                     --------------  -----  \n",
      " 0   loan_id                    5783 non-null   int64  \n",
      " 1   monthly_income             5406 non-null   float64\n",
      " 2   origination_score_band     5783 non-null   int64  \n",
      " 3   TOB_months                 5406 non-null   float64\n",
      " 4   closing_principal_balance  5406 non-null   float64\n",
      " 5   original_loan_amount       5406 non-null   float64\n",
      " 6   product                    5783 non-null   object \n",
      " 7   original_loan_term         5783 non-null   int64  \n",
      " 8   remaining_loan_term        5783 non-null   int64  \n",
      " 9   delq_history               5406 non-null   object \n",
      " 10  target                     5783 non-null   int64  \n",
      "dtypes: float64(4), int64(5), object(2)\n",
      "memory usage: 497.1+ KB\n"
     ]
    }
   ],
   "source": [
    "df.info()"
   ]
  },
  {
   "cell_type": "code",
   "execution_count": 11,
   "id": "48865d2c",
   "metadata": {},
   "outputs": [
    {
     "data": {
      "text/html": [
       "<div>\n",
       "<style scoped>\n",
       "    .dataframe tbody tr th:only-of-type {\n",
       "        vertical-align: middle;\n",
       "    }\n",
       "\n",
       "    .dataframe tbody tr th {\n",
       "        vertical-align: top;\n",
       "    }\n",
       "\n",
       "    .dataframe thead th {\n",
       "        text-align: right;\n",
       "    }\n",
       "</style>\n",
       "<table border=\"1\" class=\"dataframe\">\n",
       "  <thead>\n",
       "    <tr style=\"text-align: right;\">\n",
       "      <th></th>\n",
       "      <th>loan_id</th>\n",
       "      <th>monthly_income</th>\n",
       "      <th>origination_score_band</th>\n",
       "      <th>TOB_months</th>\n",
       "      <th>closing_principal_balance</th>\n",
       "      <th>original_loan_amount</th>\n",
       "      <th>original_loan_term</th>\n",
       "      <th>remaining_loan_term</th>\n",
       "      <th>target</th>\n",
       "    </tr>\n",
       "  </thead>\n",
       "  <tbody>\n",
       "    <tr>\n",
       "      <th>count</th>\n",
       "      <td>5783.000000</td>\n",
       "      <td>5406.000000</td>\n",
       "      <td>5783.000000</td>\n",
       "      <td>5406.000000</td>\n",
       "      <td>5406.000000</td>\n",
       "      <td>5406.000000</td>\n",
       "      <td>5783.000000</td>\n",
       "      <td>5783.000000</td>\n",
       "      <td>5783.000000</td>\n",
       "    </tr>\n",
       "    <tr>\n",
       "      <th>mean</th>\n",
       "      <td>3625.042711</td>\n",
       "      <td>14314.372919</td>\n",
       "      <td>3.904029</td>\n",
       "      <td>28.385683</td>\n",
       "      <td>5714.391417</td>\n",
       "      <td>6630.701073</td>\n",
       "      <td>62.023517</td>\n",
       "      <td>39.618364</td>\n",
       "      <td>0.302092</td>\n",
       "    </tr>\n",
       "    <tr>\n",
       "      <th>std</th>\n",
       "      <td>1516.292643</td>\n",
       "      <td>13799.514988</td>\n",
       "      <td>1.490877</td>\n",
       "      <td>16.357494</td>\n",
       "      <td>7837.483534</td>\n",
       "      <td>8491.265603</td>\n",
       "      <td>23.774170</td>\n",
       "      <td>25.004423</td>\n",
       "      <td>0.459205</td>\n",
       "    </tr>\n",
       "    <tr>\n",
       "      <th>min</th>\n",
       "      <td>1000.000000</td>\n",
       "      <td>750.000000</td>\n",
       "      <td>1.000000</td>\n",
       "      <td>6.000000</td>\n",
       "      <td>100.000000</td>\n",
       "      <td>100.000000</td>\n",
       "      <td>12.000000</td>\n",
       "      <td>0.000000</td>\n",
       "      <td>0.000000</td>\n",
       "    </tr>\n",
       "    <tr>\n",
       "      <th>25%</th>\n",
       "      <td>2310.500000</td>\n",
       "      <td>6000.000000</td>\n",
       "      <td>3.000000</td>\n",
       "      <td>17.000000</td>\n",
       "      <td>1380.000000</td>\n",
       "      <td>1800.000000</td>\n",
       "      <td>60.000000</td>\n",
       "      <td>23.000000</td>\n",
       "      <td>0.000000</td>\n",
       "    </tr>\n",
       "    <tr>\n",
       "      <th>50%</th>\n",
       "      <td>3623.000000</td>\n",
       "      <td>9750.000000</td>\n",
       "      <td>4.000000</td>\n",
       "      <td>24.000000</td>\n",
       "      <td>3000.000000</td>\n",
       "      <td>3750.000000</td>\n",
       "      <td>60.000000</td>\n",
       "      <td>40.000000</td>\n",
       "      <td>0.000000</td>\n",
       "    </tr>\n",
       "    <tr>\n",
       "      <th>75%</th>\n",
       "      <td>4934.500000</td>\n",
       "      <td>17250.000000</td>\n",
       "      <td>5.000000</td>\n",
       "      <td>38.000000</td>\n",
       "      <td>6800.000000</td>\n",
       "      <td>8100.000000</td>\n",
       "      <td>60.000000</td>\n",
       "      <td>51.000000</td>\n",
       "      <td>1.000000</td>\n",
       "    </tr>\n",
       "    <tr>\n",
       "      <th>max</th>\n",
       "      <td>6249.000000</td>\n",
       "      <td>99750.000000</td>\n",
       "      <td>8.000000</td>\n",
       "      <td>83.000000</td>\n",
       "      <td>88200.000000</td>\n",
       "      <td>90000.000000</td>\n",
       "      <td>192.000000</td>\n",
       "      <td>177.000000</td>\n",
       "      <td>1.000000</td>\n",
       "    </tr>\n",
       "  </tbody>\n",
       "</table>\n",
       "</div>"
      ],
      "text/plain": [
       "           loan_id  monthly_income  origination_score_band   TOB_months  \\\n",
       "count  5783.000000     5406.000000             5783.000000  5406.000000   \n",
       "mean   3625.042711    14314.372919                3.904029    28.385683   \n",
       "std    1516.292643    13799.514988                1.490877    16.357494   \n",
       "min    1000.000000      750.000000                1.000000     6.000000   \n",
       "25%    2310.500000     6000.000000                3.000000    17.000000   \n",
       "50%    3623.000000     9750.000000                4.000000    24.000000   \n",
       "75%    4934.500000    17250.000000                5.000000    38.000000   \n",
       "max    6249.000000    99750.000000                8.000000    83.000000   \n",
       "\n",
       "       closing_principal_balance  original_loan_amount  original_loan_term  \\\n",
       "count                5406.000000           5406.000000         5783.000000   \n",
       "mean                 5714.391417           6630.701073           62.023517   \n",
       "std                  7837.483534           8491.265603           23.774170   \n",
       "min                   100.000000            100.000000           12.000000   \n",
       "25%                  1380.000000           1800.000000           60.000000   \n",
       "50%                  3000.000000           3750.000000           60.000000   \n",
       "75%                  6800.000000           8100.000000           60.000000   \n",
       "max                 88200.000000          90000.000000          192.000000   \n",
       "\n",
       "       remaining_loan_term       target  \n",
       "count          5783.000000  5783.000000  \n",
       "mean             39.618364     0.302092  \n",
       "std              25.004423     0.459205  \n",
       "min               0.000000     0.000000  \n",
       "25%              23.000000     0.000000  \n",
       "50%              40.000000     0.000000  \n",
       "75%              51.000000     1.000000  \n",
       "max             177.000000     1.000000  "
      ]
     },
     "execution_count": 11,
     "metadata": {},
     "output_type": "execute_result"
    }
   ],
   "source": [
    "df.describe()"
   ]
  },
  {
   "cell_type": "code",
   "execution_count": 12,
   "id": "b810834b",
   "metadata": {},
   "outputs": [
    {
     "data": {
      "text/html": [
       "<div>\n",
       "<style scoped>\n",
       "    .dataframe tbody tr th:only-of-type {\n",
       "        vertical-align: middle;\n",
       "    }\n",
       "\n",
       "    .dataframe tbody tr th {\n",
       "        vertical-align: top;\n",
       "    }\n",
       "\n",
       "    .dataframe thead th {\n",
       "        text-align: right;\n",
       "    }\n",
       "</style>\n",
       "<table border=\"1\" class=\"dataframe\">\n",
       "  <thead>\n",
       "    <tr style=\"text-align: right;\">\n",
       "      <th></th>\n",
       "      <th>loan_id</th>\n",
       "      <th>monthly_income</th>\n",
       "      <th>origination_score_band</th>\n",
       "      <th>TOB_months</th>\n",
       "      <th>closing_principal_balance</th>\n",
       "      <th>original_loan_amount</th>\n",
       "      <th>product</th>\n",
       "      <th>original_loan_term</th>\n",
       "      <th>remaining_loan_term</th>\n",
       "      <th>delq_history</th>\n",
       "      <th>target</th>\n",
       "    </tr>\n",
       "  </thead>\n",
       "  <tbody>\n",
       "    <tr>\n",
       "      <th>0</th>\n",
       "      <td>1000</td>\n",
       "      <td>6000.0</td>\n",
       "      <td>5</td>\n",
       "      <td>83.0</td>\n",
       "      <td>300.0</td>\n",
       "      <td>1800.0</td>\n",
       "      <td>B</td>\n",
       "      <td>24</td>\n",
       "      <td>5</td>\n",
       "      <td>0,0,0,0,0,0</td>\n",
       "      <td>0</td>\n",
       "    </tr>\n",
       "    <tr>\n",
       "      <th>1</th>\n",
       "      <td>1001</td>\n",
       "      <td>39000.0</td>\n",
       "      <td>5</td>\n",
       "      <td>82.0</td>\n",
       "      <td>7200.0</td>\n",
       "      <td>11700.0</td>\n",
       "      <td>B</td>\n",
       "      <td>60</td>\n",
       "      <td>42</td>\n",
       "      <td>0,1,0,0,0,0</td>\n",
       "      <td>0</td>\n",
       "    </tr>\n",
       "    <tr>\n",
       "      <th>2</th>\n",
       "      <td>1002</td>\n",
       "      <td>18000.0</td>\n",
       "      <td>5</td>\n",
       "      <td>78.0</td>\n",
       "      <td>2700.0</td>\n",
       "      <td>5400.0</td>\n",
       "      <td>B</td>\n",
       "      <td>60</td>\n",
       "      <td>46</td>\n",
       "      <td>0,0,1,0,0,0</td>\n",
       "      <td>0</td>\n",
       "    </tr>\n",
       "    <tr>\n",
       "      <th>3</th>\n",
       "      <td>1003</td>\n",
       "      <td>23250.0</td>\n",
       "      <td>3</td>\n",
       "      <td>76.0</td>\n",
       "      <td>3900.0</td>\n",
       "      <td>6900.0</td>\n",
       "      <td>B</td>\n",
       "      <td>60</td>\n",
       "      <td>48</td>\n",
       "      <td>1,1,0,1,0,0</td>\n",
       "      <td>1</td>\n",
       "    </tr>\n",
       "    <tr>\n",
       "      <th>4</th>\n",
       "      <td>1004</td>\n",
       "      <td>12000.0</td>\n",
       "      <td>3</td>\n",
       "      <td>74.0</td>\n",
       "      <td>2100.0</td>\n",
       "      <td>3600.0</td>\n",
       "      <td>B</td>\n",
       "      <td>60</td>\n",
       "      <td>50</td>\n",
       "      <td>1,0,0,0,0,0</td>\n",
       "      <td>0</td>\n",
       "    </tr>\n",
       "    <tr>\n",
       "      <th>...</th>\n",
       "      <td>...</td>\n",
       "      <td>...</td>\n",
       "      <td>...</td>\n",
       "      <td>...</td>\n",
       "      <td>...</td>\n",
       "      <td>...</td>\n",
       "      <td>...</td>\n",
       "      <td>...</td>\n",
       "      <td>...</td>\n",
       "      <td>...</td>\n",
       "      <td>...</td>\n",
       "    </tr>\n",
       "    <tr>\n",
       "      <th>5778</th>\n",
       "      <td>6245</td>\n",
       "      <td>8250.0</td>\n",
       "      <td>4</td>\n",
       "      <td>6.0</td>\n",
       "      <td>6000.0</td>\n",
       "      <td>6000.0</td>\n",
       "      <td>A</td>\n",
       "      <td>36</td>\n",
       "      <td>35</td>\n",
       "      <td>0,0,0,0,0,0</td>\n",
       "      <td>0</td>\n",
       "    </tr>\n",
       "    <tr>\n",
       "      <th>5779</th>\n",
       "      <td>6246</td>\n",
       "      <td>2250.0</td>\n",
       "      <td>5</td>\n",
       "      <td>6.0</td>\n",
       "      <td>1500.0</td>\n",
       "      <td>1500.0</td>\n",
       "      <td>C</td>\n",
       "      <td>12</td>\n",
       "      <td>11</td>\n",
       "      <td>0,0,0,0,0,0</td>\n",
       "      <td>0</td>\n",
       "    </tr>\n",
       "    <tr>\n",
       "      <th>5780</th>\n",
       "      <td>6247</td>\n",
       "      <td>3750.0</td>\n",
       "      <td>5</td>\n",
       "      <td>6.0</td>\n",
       "      <td>3000.0</td>\n",
       "      <td>3000.0</td>\n",
       "      <td>D</td>\n",
       "      <td>60</td>\n",
       "      <td>65</td>\n",
       "      <td>0,0,0,0,0,0</td>\n",
       "      <td>0</td>\n",
       "    </tr>\n",
       "    <tr>\n",
       "      <th>5781</th>\n",
       "      <td>6248</td>\n",
       "      <td>9750.0</td>\n",
       "      <td>7</td>\n",
       "      <td>6.0</td>\n",
       "      <td>7500.0</td>\n",
       "      <td>7500.0</td>\n",
       "      <td>D</td>\n",
       "      <td>60</td>\n",
       "      <td>65</td>\n",
       "      <td>0,0,0,0,0,0</td>\n",
       "      <td>1</td>\n",
       "    </tr>\n",
       "    <tr>\n",
       "      <th>5782</th>\n",
       "      <td>6249</td>\n",
       "      <td>2250.0</td>\n",
       "      <td>6</td>\n",
       "      <td>6.0</td>\n",
       "      <td>1500.0</td>\n",
       "      <td>1500.0</td>\n",
       "      <td>C</td>\n",
       "      <td>36</td>\n",
       "      <td>35</td>\n",
       "      <td>0,0,0,0,0,0</td>\n",
       "      <td>0</td>\n",
       "    </tr>\n",
       "  </tbody>\n",
       "</table>\n",
       "<p>5783 rows × 11 columns</p>\n",
       "</div>"
      ],
      "text/plain": [
       "      loan_id  monthly_income  origination_score_band  TOB_months  \\\n",
       "0        1000          6000.0                       5        83.0   \n",
       "1        1001         39000.0                       5        82.0   \n",
       "2        1002         18000.0                       5        78.0   \n",
       "3        1003         23250.0                       3        76.0   \n",
       "4        1004         12000.0                       3        74.0   \n",
       "...       ...             ...                     ...         ...   \n",
       "5778     6245          8250.0                       4         6.0   \n",
       "5779     6246          2250.0                       5         6.0   \n",
       "5780     6247          3750.0                       5         6.0   \n",
       "5781     6248          9750.0                       7         6.0   \n",
       "5782     6249          2250.0                       6         6.0   \n",
       "\n",
       "      closing_principal_balance  original_loan_amount product  \\\n",
       "0                         300.0                1800.0       B   \n",
       "1                        7200.0               11700.0       B   \n",
       "2                        2700.0                5400.0       B   \n",
       "3                        3900.0                6900.0       B   \n",
       "4                        2100.0                3600.0       B   \n",
       "...                         ...                   ...     ...   \n",
       "5778                     6000.0                6000.0       A   \n",
       "5779                     1500.0                1500.0       C   \n",
       "5780                     3000.0                3000.0       D   \n",
       "5781                     7500.0                7500.0       D   \n",
       "5782                     1500.0                1500.0       C   \n",
       "\n",
       "      original_loan_term  remaining_loan_term delq_history  target  \n",
       "0                     24                    5  0,0,0,0,0,0       0  \n",
       "1                     60                   42  0,1,0,0,0,0       0  \n",
       "2                     60                   46  0,0,1,0,0,0       0  \n",
       "3                     60                   48  1,1,0,1,0,0       1  \n",
       "4                     60                   50  1,0,0,0,0,0       0  \n",
       "...                  ...                  ...          ...     ...  \n",
       "5778                  36                   35  0,0,0,0,0,0       0  \n",
       "5779                  12                   11  0,0,0,0,0,0       0  \n",
       "5780                  60                   65  0,0,0,0,0,0       0  \n",
       "5781                  60                   65  0,0,0,0,0,0       1  \n",
       "5782                  36                   35  0,0,0,0,0,0       0  \n",
       "\n",
       "[5783 rows x 11 columns]"
      ]
     },
     "execution_count": 12,
     "metadata": {},
     "output_type": "execute_result"
    }
   ],
   "source": [
    "df"
   ]
  },
  {
   "cell_type": "markdown",
   "id": "68f1bb83",
   "metadata": {},
   "source": [
    "## Step 3. Data Wrangling"
   ]
  },
  {
   "cell_type": "code",
   "execution_count": 13,
   "id": "e1e6a257",
   "metadata": {},
   "outputs": [
    {
     "data": {
      "text/plain": [
       "533"
      ]
     },
     "execution_count": 13,
     "metadata": {},
     "output_type": "execute_result"
    }
   ],
   "source": [
    "df.duplicated(subset=['loan_id']).sum()    #find duplicates in dataset"
   ]
  },
  {
   "cell_type": "code",
   "execution_count": 14,
   "id": "4305b070",
   "metadata": {},
   "outputs": [],
   "source": [
    "df = df.drop_duplicates(subset=['loan_id'])   #Drop duplicates"
   ]
  },
  {
   "cell_type": "code",
   "execution_count": 15,
   "id": "d88b660a",
   "metadata": {},
   "outputs": [
    {
     "data": {
      "text/plain": [
       "0"
      ]
     },
     "execution_count": 15,
     "metadata": {},
     "output_type": "execute_result"
    }
   ],
   "source": [
    "df.duplicated(subset=['loan_id']).sum()    #verify that duplicates have been dropped"
   ]
  },
  {
   "cell_type": "code",
   "execution_count": 16,
   "id": "fce08471",
   "metadata": {},
   "outputs": [
    {
     "data": {
      "text/plain": [
       "loan_id                        0\n",
       "monthly_income               377\n",
       "origination_score_band         0\n",
       "TOB_months                   377\n",
       "closing_principal_balance    377\n",
       "original_loan_amount         377\n",
       "product                        0\n",
       "original_loan_term             0\n",
       "remaining_loan_term            0\n",
       "delq_history                 377\n",
       "target                         0\n",
       "dtype: int64"
      ]
     },
     "execution_count": 16,
     "metadata": {},
     "output_type": "execute_result"
    }
   ],
   "source": [
    "df.isnull().sum()"
   ]
  },
  {
   "cell_type": "code",
   "execution_count": 17,
   "id": "4430ba3d",
   "metadata": {},
   "outputs": [
    {
     "data": {
      "text/plain": [
       "loan_id                      0\n",
       "monthly_income               0\n",
       "origination_score_band       0\n",
       "TOB_months                   0\n",
       "closing_principal_balance    0\n",
       "original_loan_amount         0\n",
       "product                      0\n",
       "original_loan_term           0\n",
       "remaining_loan_term          0\n",
       "delq_history                 0\n",
       "target                       0\n",
       "dtype: int64"
      ]
     },
     "execution_count": 17,
     "metadata": {},
     "output_type": "execute_result"
    }
   ],
   "source": [
    "data = df.fillna({\n",
    "    'monthly_income' : df['monthly_income'].mean(),\n",
    "    'TOB_months' : df['TOB_months'].mean(),\n",
    "    'closing_principal_balance' : df['closing_principal_balance'].mean(),\n",
    "    'original_loan_amount' : df['original_loan_amount'].mean(),\n",
    "    'delq_history' : df['delq_history'].mode()[0],\n",
    "})\n",
    "\n",
    "data.isnull().sum()        #Replacing null values with the mean(for int/float datatype) and mode (for object datatype)"
   ]
  },
  {
   "cell_type": "code",
   "execution_count": 18,
   "id": "91fa0246",
   "metadata": {},
   "outputs": [
    {
     "data": {
      "text/plain": [
       "(5250, 11)"
      ]
     },
     "execution_count": 18,
     "metadata": {},
     "output_type": "execute_result"
    }
   ],
   "source": [
    "data.shape"
   ]
  },
  {
   "cell_type": "code",
   "execution_count": 19,
   "id": "e785e178",
   "metadata": {},
   "outputs": [
    {
     "data": {
      "text/html": [
       "<div>\n",
       "<style scoped>\n",
       "    .dataframe tbody tr th:only-of-type {\n",
       "        vertical-align: middle;\n",
       "    }\n",
       "\n",
       "    .dataframe tbody tr th {\n",
       "        vertical-align: top;\n",
       "    }\n",
       "\n",
       "    .dataframe thead th {\n",
       "        text-align: right;\n",
       "    }\n",
       "</style>\n",
       "<table border=\"1\" class=\"dataframe\">\n",
       "  <thead>\n",
       "    <tr style=\"text-align: right;\">\n",
       "      <th></th>\n",
       "      <th>loan_id</th>\n",
       "      <th>monthly_income</th>\n",
       "      <th>origination_score_band</th>\n",
       "      <th>TOB_months</th>\n",
       "      <th>closing_principal_balance</th>\n",
       "      <th>original_loan_amount</th>\n",
       "      <th>product</th>\n",
       "      <th>original_loan_term</th>\n",
       "      <th>remaining_loan_term</th>\n",
       "      <th>delq_history</th>\n",
       "      <th>target</th>\n",
       "    </tr>\n",
       "  </thead>\n",
       "  <tbody>\n",
       "    <tr>\n",
       "      <th>0</th>\n",
       "      <td>1000</td>\n",
       "      <td>6000.0</td>\n",
       "      <td>5</td>\n",
       "      <td>83.0</td>\n",
       "      <td>300.0</td>\n",
       "      <td>1800.0</td>\n",
       "      <td>B</td>\n",
       "      <td>24</td>\n",
       "      <td>5</td>\n",
       "      <td>0,0,0,0,0,0</td>\n",
       "      <td>0</td>\n",
       "    </tr>\n",
       "    <tr>\n",
       "      <th>1</th>\n",
       "      <td>1001</td>\n",
       "      <td>39000.0</td>\n",
       "      <td>5</td>\n",
       "      <td>82.0</td>\n",
       "      <td>7200.0</td>\n",
       "      <td>11700.0</td>\n",
       "      <td>B</td>\n",
       "      <td>60</td>\n",
       "      <td>42</td>\n",
       "      <td>0,1,0,0,0,0</td>\n",
       "      <td>0</td>\n",
       "    </tr>\n",
       "    <tr>\n",
       "      <th>2</th>\n",
       "      <td>1002</td>\n",
       "      <td>18000.0</td>\n",
       "      <td>5</td>\n",
       "      <td>78.0</td>\n",
       "      <td>2700.0</td>\n",
       "      <td>5400.0</td>\n",
       "      <td>B</td>\n",
       "      <td>60</td>\n",
       "      <td>46</td>\n",
       "      <td>0,0,1,0,0,0</td>\n",
       "      <td>0</td>\n",
       "    </tr>\n",
       "    <tr>\n",
       "      <th>3</th>\n",
       "      <td>1003</td>\n",
       "      <td>23250.0</td>\n",
       "      <td>3</td>\n",
       "      <td>76.0</td>\n",
       "      <td>3900.0</td>\n",
       "      <td>6900.0</td>\n",
       "      <td>B</td>\n",
       "      <td>60</td>\n",
       "      <td>48</td>\n",
       "      <td>1,1,0,1,0,0</td>\n",
       "      <td>1</td>\n",
       "    </tr>\n",
       "    <tr>\n",
       "      <th>4</th>\n",
       "      <td>1004</td>\n",
       "      <td>12000.0</td>\n",
       "      <td>3</td>\n",
       "      <td>74.0</td>\n",
       "      <td>2100.0</td>\n",
       "      <td>3600.0</td>\n",
       "      <td>B</td>\n",
       "      <td>60</td>\n",
       "      <td>50</td>\n",
       "      <td>1,0,0,0,0,0</td>\n",
       "      <td>0</td>\n",
       "    </tr>\n",
       "    <tr>\n",
       "      <th>...</th>\n",
       "      <td>...</td>\n",
       "      <td>...</td>\n",
       "      <td>...</td>\n",
       "      <td>...</td>\n",
       "      <td>...</td>\n",
       "      <td>...</td>\n",
       "      <td>...</td>\n",
       "      <td>...</td>\n",
       "      <td>...</td>\n",
       "      <td>...</td>\n",
       "      <td>...</td>\n",
       "    </tr>\n",
       "    <tr>\n",
       "      <th>5778</th>\n",
       "      <td>6245</td>\n",
       "      <td>8250.0</td>\n",
       "      <td>4</td>\n",
       "      <td>6.0</td>\n",
       "      <td>6000.0</td>\n",
       "      <td>6000.0</td>\n",
       "      <td>A</td>\n",
       "      <td>36</td>\n",
       "      <td>35</td>\n",
       "      <td>0,0,0,0,0,0</td>\n",
       "      <td>0</td>\n",
       "    </tr>\n",
       "    <tr>\n",
       "      <th>5779</th>\n",
       "      <td>6246</td>\n",
       "      <td>2250.0</td>\n",
       "      <td>5</td>\n",
       "      <td>6.0</td>\n",
       "      <td>1500.0</td>\n",
       "      <td>1500.0</td>\n",
       "      <td>C</td>\n",
       "      <td>12</td>\n",
       "      <td>11</td>\n",
       "      <td>0,0,0,0,0,0</td>\n",
       "      <td>0</td>\n",
       "    </tr>\n",
       "    <tr>\n",
       "      <th>5780</th>\n",
       "      <td>6247</td>\n",
       "      <td>3750.0</td>\n",
       "      <td>5</td>\n",
       "      <td>6.0</td>\n",
       "      <td>3000.0</td>\n",
       "      <td>3000.0</td>\n",
       "      <td>D</td>\n",
       "      <td>60</td>\n",
       "      <td>65</td>\n",
       "      <td>0,0,0,0,0,0</td>\n",
       "      <td>0</td>\n",
       "    </tr>\n",
       "    <tr>\n",
       "      <th>5781</th>\n",
       "      <td>6248</td>\n",
       "      <td>9750.0</td>\n",
       "      <td>7</td>\n",
       "      <td>6.0</td>\n",
       "      <td>7500.0</td>\n",
       "      <td>7500.0</td>\n",
       "      <td>D</td>\n",
       "      <td>60</td>\n",
       "      <td>65</td>\n",
       "      <td>0,0,0,0,0,0</td>\n",
       "      <td>1</td>\n",
       "    </tr>\n",
       "    <tr>\n",
       "      <th>5782</th>\n",
       "      <td>6249</td>\n",
       "      <td>2250.0</td>\n",
       "      <td>6</td>\n",
       "      <td>6.0</td>\n",
       "      <td>1500.0</td>\n",
       "      <td>1500.0</td>\n",
       "      <td>C</td>\n",
       "      <td>36</td>\n",
       "      <td>35</td>\n",
       "      <td>0,0,0,0,0,0</td>\n",
       "      <td>0</td>\n",
       "    </tr>\n",
       "  </tbody>\n",
       "</table>\n",
       "<p>5250 rows × 11 columns</p>\n",
       "</div>"
      ],
      "text/plain": [
       "      loan_id  monthly_income  origination_score_band  TOB_months  \\\n",
       "0        1000          6000.0                       5        83.0   \n",
       "1        1001         39000.0                       5        82.0   \n",
       "2        1002         18000.0                       5        78.0   \n",
       "3        1003         23250.0                       3        76.0   \n",
       "4        1004         12000.0                       3        74.0   \n",
       "...       ...             ...                     ...         ...   \n",
       "5778     6245          8250.0                       4         6.0   \n",
       "5779     6246          2250.0                       5         6.0   \n",
       "5780     6247          3750.0                       5         6.0   \n",
       "5781     6248          9750.0                       7         6.0   \n",
       "5782     6249          2250.0                       6         6.0   \n",
       "\n",
       "      closing_principal_balance  original_loan_amount product  \\\n",
       "0                         300.0                1800.0       B   \n",
       "1                        7200.0               11700.0       B   \n",
       "2                        2700.0                5400.0       B   \n",
       "3                        3900.0                6900.0       B   \n",
       "4                        2100.0                3600.0       B   \n",
       "...                         ...                   ...     ...   \n",
       "5778                     6000.0                6000.0       A   \n",
       "5779                     1500.0                1500.0       C   \n",
       "5780                     3000.0                3000.0       D   \n",
       "5781                     7500.0                7500.0       D   \n",
       "5782                     1500.0                1500.0       C   \n",
       "\n",
       "      original_loan_term  remaining_loan_term delq_history  target  \n",
       "0                     24                    5  0,0,0,0,0,0       0  \n",
       "1                     60                   42  0,1,0,0,0,0       0  \n",
       "2                     60                   46  0,0,1,0,0,0       0  \n",
       "3                     60                   48  1,1,0,1,0,0       1  \n",
       "4                     60                   50  1,0,0,0,0,0       0  \n",
       "...                  ...                  ...          ...     ...  \n",
       "5778                  36                   35  0,0,0,0,0,0       0  \n",
       "5779                  12                   11  0,0,0,0,0,0       0  \n",
       "5780                  60                   65  0,0,0,0,0,0       0  \n",
       "5781                  60                   65  0,0,0,0,0,0       1  \n",
       "5782                  36                   35  0,0,0,0,0,0       0  \n",
       "\n",
       "[5250 rows x 11 columns]"
      ]
     },
     "execution_count": 19,
     "metadata": {},
     "output_type": "execute_result"
    }
   ],
   "source": [
    "data"
   ]
  },
  {
   "cell_type": "markdown",
   "id": "bb78dba4",
   "metadata": {},
   "source": [
    "#Step 4. Modelling"
   ]
  },
  {
   "cell_type": "code",
   "execution_count": 20,
   "id": "42e4ddf0",
   "metadata": {},
   "outputs": [
    {
     "name": "stderr",
     "output_type": "stream",
     "text": [
      "C:\\Users\\Manyi\\anaconda3\\lib\\site-packages\\seaborn\\_decorators.py:36: FutureWarning: Pass the following variable as a keyword arg: x. From version 0.12, the only valid positional argument will be `data`, and passing other arguments without an explicit keyword will result in an error or misinterpretation.\n",
      "  warnings.warn(\n"
     ]
    },
    {
     "data": {
      "image/png": "[encoded data removed]",
      "text/plain": [
       "<Figure size 432x288 with 1 Axes>"
      ]
     },
     "metadata": {
      "needs_background": "light"
     },
     "output_type": "display_data"
    }
   ],
   "source": [
    "#Exploratory Data Analysis\n",
    "sns.countplot(data['product'])\n",
    "plt.savefig('product.jpg')"
   ]
  },
  {
   "cell_type": "code",
   "execution_count": 21,
   "id": "2b26e32d",
   "metadata": {},
   "outputs": [
    {
     "data": {
      "text/plain": [
       "count     5250\n",
       "unique       4\n",
       "top          A\n",
       "freq      2660\n",
       "Name: product, dtype: object"
      ]
     },
     "execution_count": 21,
     "metadata": {},
     "output_type": "execute_result"
    }
   ],
   "source": [
    "data['product'].describe()"
   ]
  },
  {
   "cell_type": "code",
   "execution_count": 22,
   "id": "43ba78f2",
   "metadata": {},
   "outputs": [
    {
     "name": "stderr",
     "output_type": "stream",
     "text": [
      "C:\\Users\\Manyi\\anaconda3\\lib\\site-packages\\seaborn\\_decorators.py:36: FutureWarning: Pass the following variable as a keyword arg: x. From version 0.12, the only valid positional argument will be `data`, and passing other arguments without an explicit keyword will result in an error or misinterpretation.\n",
      "  warnings.warn(\n"
     ]
    },
    {
     "data": {
      "text/plain": [
       "<AxesSubplot:xlabel='original_loan_term', ylabel='count'>"
      ]
     },
     "execution_count": 22,
     "metadata": {},
     "output_type": "execute_result"
    },
    {
     "data": {
      "image/png": "[encoded data removed]",
      "text/plain": [
       "<Figure size 720x432 with 1 Axes>"
      ]
     },
     "metadata": {
      "needs_background": "light"
     },
     "output_type": "display_data"
    }
   ],
   "source": [
    "plt.figure(figsize=(10,6))\n",
    "sns.countplot(data['original_loan_term'])"
   ]
  },
  {
   "cell_type": "code",
   "execution_count": 23,
   "id": "90b8fe79",
   "metadata": {},
   "outputs": [
    {
     "name": "stderr",
     "output_type": "stream",
     "text": [
      "C:\\Users\\Manyi\\anaconda3\\lib\\site-packages\\seaborn\\_decorators.py:36: FutureWarning: Pass the following variable as a keyword arg: x. From version 0.12, the only valid positional argument will be `data`, and passing other arguments without an explicit keyword will result in an error or misinterpretation.\n",
      "  warnings.warn(\n"
     ]
    },
    {
     "data": {
      "text/plain": [
       "<AxesSubplot:xlabel='origination_score_band', ylabel='count'>"
      ]
     },
     "execution_count": 23,
     "metadata": {},
     "output_type": "execute_result"
    },
    {
     "data": {
      "image/png": "[encoded data removed]",
      "text/plain": [
       "<Figure size 432x288 with 1 Axes>"
      ]
     },
     "metadata": {
      "needs_background": "light"
     },
     "output_type": "display_data"
    }
   ],
   "source": [
    "sns.countplot(data['origination_score_band'])"
   ]
  },
  {
   "cell_type": "code",
   "execution_count": 24,
   "id": "9a8456a8",
   "metadata": {},
   "outputs": [
    {
     "name": "stderr",
     "output_type": "stream",
     "text": [
      "C:\\Users\\Manyi\\anaconda3\\lib\\site-packages\\seaborn\\_decorators.py:36: FutureWarning: Pass the following variable as a keyword arg: x. From version 0.12, the only valid positional argument will be `data`, and passing other arguments without an explicit keyword will result in an error or misinterpretation.\n",
      "  warnings.warn(\n"
     ]
    },
    {
     "data": {
      "image/png": "[encoded data removed]",
      "text/plain": [
       "<Figure size 432x288 with 1 Axes>"
      ]
     },
     "metadata": {
      "needs_background": "light"
     },
     "output_type": "display_data"
    }
   ],
   "source": [
    "sns.countplot(data['target'])\n",
    "plt.savefig('target.jpg')"
   ]
  },
  {
   "cell_type": "code",
   "execution_count": 25,
   "id": "1ac921ac",
   "metadata": {},
   "outputs": [
    {
     "name": "stderr",
     "output_type": "stream",
     "text": [
      "C:\\Users\\Manyi\\anaconda3\\lib\\site-packages\\seaborn\\distributions.py:2619: FutureWarning: `distplot` is a deprecated function and will be removed in a future version. Please adapt your code to use either `displot` (a figure-level function with similar flexibility) or `histplot` (an axes-level function for histograms).\n",
      "  warnings.warn(msg, FutureWarning)\n"
     ]
    },
    {
     "data": {
      "text/plain": [
       "<AxesSubplot:xlabel='monthly_income', ylabel='Density'>"
      ]
     },
     "execution_count": 25,
     "metadata": {},
     "output_type": "execute_result"
    },
    {
     "data": {
      "image/png": "[encoded data removed]",
      "text/plain": [
       "<Figure size 432x288 with 1 Axes>"
      ]
     },
     "metadata": {
      "needs_background": "light"
     },
     "output_type": "display_data"
    }
   ],
   "source": [
    "sns.distplot(data['monthly_income'])"
   ]
  },
  {
   "cell_type": "code",
   "execution_count": 26,
   "id": "ae4dfad6",
   "metadata": {},
   "outputs": [
    {
     "data": {
      "text/plain": [
       "count     5250.000000\n",
       "mean     14414.836856\n",
       "std      13436.663249\n",
       "min        750.000000\n",
       "25%       6000.000000\n",
       "50%       9750.000000\n",
       "75%      15750.000000\n",
       "max      99750.000000\n",
       "Name: monthly_income, dtype: float64"
      ]
     },
     "execution_count": 26,
     "metadata": {},
     "output_type": "execute_result"
    }
   ],
   "source": [
    "data['monthly_income'].describe()"
   ]
  },
  {
   "cell_type": "code",
   "execution_count": 27,
   "id": "3baf7fcc",
   "metadata": {},
   "outputs": [],
   "source": [
    "#applying log transformation to normalize the attributes\n",
    "data['monthly_income_log'] = np.log(df['monthly_income'])"
   ]
  },
  {
   "cell_type": "code",
   "execution_count": 28,
   "id": "0dcf356e",
   "metadata": {},
   "outputs": [
    {
     "name": "stderr",
     "output_type": "stream",
     "text": [
      "C:\\Users\\Manyi\\anaconda3\\lib\\site-packages\\seaborn\\distributions.py:2619: FutureWarning: `distplot` is a deprecated function and will be removed in a future version. Please adapt your code to use either `displot` (a figure-level function with similar flexibility) or `histplot` (an axes-level function for histograms).\n",
      "  warnings.warn(msg, FutureWarning)\n"
     ]
    },
    {
     "data": {
      "text/plain": [
       "<AxesSubplot:xlabel='monthly_income_log', ylabel='Density'>"
      ]
     },
     "execution_count": 28,
     "metadata": {},
     "output_type": "execute_result"
    },
    {
     "data": {
      "image/png": "[encoded data removed]",
      "text/plain": [
       "<Figure size 432x288 with 1 Axes>"
      ]
     },
     "metadata": {
      "needs_background": "light"
     },
     "output_type": "display_data"
    }
   ],
   "source": [
    "sns.distplot(data['monthly_income_log'])"
   ]
  },
  {
   "cell_type": "code",
   "execution_count": 29,
   "id": "e527bb6c",
   "metadata": {},
   "outputs": [
    {
     "name": "stderr",
     "output_type": "stream",
     "text": [
      "C:\\Users\\Manyi\\anaconda3\\lib\\site-packages\\seaborn\\distributions.py:2619: FutureWarning: `distplot` is a deprecated function and will be removed in a future version. Please adapt your code to use either `displot` (a figure-level function with similar flexibility) or `histplot` (an axes-level function for histograms).\n",
      "  warnings.warn(msg, FutureWarning)\n"
     ]
    },
    {
     "data": {
      "text/plain": [
       "<AxesSubplot:xlabel='TOB_months', ylabel='Density'>"
      ]
     },
     "execution_count": 29,
     "metadata": {},
     "output_type": "execute_result"
    },
    {
     "data": {
      "image/png": "[encoded data removed]",
      "text/plain": [
       "<Figure size 432x288 with 1 Axes>"
      ]
     },
     "metadata": {
      "needs_background": "light"
     },
     "output_type": "display_data"
    }
   ],
   "source": [
    "sns.distplot(data['TOB_months'])"
   ]
  },
  {
   "cell_type": "code",
   "execution_count": 30,
   "id": "4df517fb",
   "metadata": {},
   "outputs": [
    {
     "name": "stderr",
     "output_type": "stream",
     "text": [
      "C:\\Users\\Manyi\\anaconda3\\lib\\site-packages\\seaborn\\distributions.py:2619: FutureWarning: `distplot` is a deprecated function and will be removed in a future version. Please adapt your code to use either `displot` (a figure-level function with similar flexibility) or `histplot` (an axes-level function for histograms).\n",
      "  warnings.warn(msg, FutureWarning)\n"
     ]
    },
    {
     "data": {
      "text/plain": [
       "<AxesSubplot:xlabel='closing_principal_balance', ylabel='Density'>"
      ]
     },
     "execution_count": 30,
     "metadata": {},
     "output_type": "execute_result"
    },
    {
     "data": {
      "image/png": "[encoded data removed]",
      "text/plain": [
       "<Figure size 432x288 with 1 Axes>"
      ]
     },
     "metadata": {
      "needs_background": "light"
     },
     "output_type": "display_data"
    }
   ],
   "source": [
    "sns.distplot(data['closing_principal_balance'])"
   ]
  },
  {
   "cell_type": "code",
   "execution_count": 31,
   "id": "a556eed5",
   "metadata": {},
   "outputs": [
    {
     "data": {
      "text/plain": [
       "count     5250.000000\n",
       "mean      5764.565976\n",
       "std       7667.836564\n",
       "min        100.000000\n",
       "25%       1500.000000\n",
       "50%       3600.000000\n",
       "75%       6447.500000\n",
       "max      88200.000000\n",
       "Name: closing_principal_balance, dtype: float64"
      ]
     },
     "execution_count": 31,
     "metadata": {},
     "output_type": "execute_result"
    }
   ],
   "source": [
    "data['closing_principal_balance'].describe()"
   ]
  },
  {
   "cell_type": "code",
   "execution_count": 32,
   "id": "398b7ebc",
   "metadata": {},
   "outputs": [
    {
     "name": "stderr",
     "output_type": "stream",
     "text": [
      "C:\\Users\\Manyi\\anaconda3\\lib\\site-packages\\seaborn\\distributions.py:2619: FutureWarning: `distplot` is a deprecated function and will be removed in a future version. Please adapt your code to use either `displot` (a figure-level function with similar flexibility) or `histplot` (an axes-level function for histograms).\n",
      "  warnings.warn(msg, FutureWarning)\n"
     ]
    },
    {
     "data": {
      "text/plain": [
       "<AxesSubplot:xlabel='closing_principal_balance_log', ylabel='Density'>"
      ]
     },
     "execution_count": 32,
     "metadata": {},
     "output_type": "execute_result"
    },
    {
     "data": {
      "image/png": "[encoded data removed]",
      "text/plain": [
       "<Figure size 432x288 with 1 Axes>"
      ]
     },
     "metadata": {
      "needs_background": "light"
     },
     "output_type": "display_data"
    }
   ],
   "source": [
    "data['closing_principal_balance_log'] = np.log(df['closing_principal_balance'])\n",
    "sns.distplot(data['closing_principal_balance_log'])"
   ]
  },
  {
   "cell_type": "code",
   "execution_count": 33,
   "id": "830875a6",
   "metadata": {},
   "outputs": [
    {
     "name": "stderr",
     "output_type": "stream",
     "text": [
      "C:\\Users\\Manyi\\anaconda3\\lib\\site-packages\\seaborn\\distributions.py:2619: FutureWarning: `distplot` is a deprecated function and will be removed in a future version. Please adapt your code to use either `displot` (a figure-level function with similar flexibility) or `histplot` (an axes-level function for histograms).\n",
      "  warnings.warn(msg, FutureWarning)\n"
     ]
    },
    {
     "data": {
      "text/plain": [
       "<AxesSubplot:xlabel='original_loan_amount', ylabel='Density'>"
      ]
     },
     "execution_count": 33,
     "metadata": {},
     "output_type": "execute_result"
    },
    {
     "data": {
      "image/png": "[encoded data removed]",
      "text/plain": [
       "<Figure size 432x288 with 1 Axes>"
      ]
     },
     "metadata": {
      "needs_background": "light"
     },
     "output_type": "display_data"
    }
   ],
   "source": [
    "sns.distplot(data['original_loan_amount'])"
   ]
  },
  {
   "cell_type": "code",
   "execution_count": 34,
   "id": "b085b112",
   "metadata": {},
   "outputs": [
    {
     "data": {
      "text/plain": [
       "count     5250.000000\n",
       "mean      6685.485327\n",
       "std       8297.713989\n",
       "min        100.000000\n",
       "25%       1840.000000\n",
       "50%       4275.000000\n",
       "75%       7500.000000\n",
       "max      90000.000000\n",
       "Name: original_loan_amount, dtype: float64"
      ]
     },
     "execution_count": 34,
     "metadata": {},
     "output_type": "execute_result"
    }
   ],
   "source": [
    "data['original_loan_amount'].describe()"
   ]
  },
  {
   "cell_type": "code",
   "execution_count": 35,
   "id": "6cb67866",
   "metadata": {},
   "outputs": [
    {
     "name": "stderr",
     "output_type": "stream",
     "text": [
      "C:\\Users\\Manyi\\anaconda3\\lib\\site-packages\\seaborn\\distributions.py:2619: FutureWarning: `distplot` is a deprecated function and will be removed in a future version. Please adapt your code to use either `displot` (a figure-level function with similar flexibility) or `histplot` (an axes-level function for histograms).\n",
      "  warnings.warn(msg, FutureWarning)\n"
     ]
    },
    {
     "data": {
      "text/plain": [
       "<AxesSubplot:xlabel='original_loan_amount_log', ylabel='Density'>"
      ]
     },
     "execution_count": 35,
     "metadata": {},
     "output_type": "execute_result"
    },
    {
     "data": {
      "image/png": "[encoded data removed]",
      "text/plain": [
       "<Figure size 432x288 with 1 Axes>"
      ]
     },
     "metadata": {
      "needs_background": "light"
     },
     "output_type": "display_data"
    }
   ],
   "source": [
    "data['original_loan_amount_log'] = np.log(df['original_loan_amount'])\n",
    "sns.distplot(data['original_loan_amount_log'])"
   ]
  },
  {
   "cell_type": "code",
   "execution_count": 36,
   "id": "4b851fa4",
   "metadata": {},
   "outputs": [
    {
     "name": "stderr",
     "output_type": "stream",
     "text": [
      "C:\\Users\\Manyi\\anaconda3\\lib\\site-packages\\seaborn\\distributions.py:2619: FutureWarning: `distplot` is a deprecated function and will be removed in a future version. Please adapt your code to use either `displot` (a figure-level function with similar flexibility) or `histplot` (an axes-level function for histograms).\n",
      "  warnings.warn(msg, FutureWarning)\n"
     ]
    },
    {
     "data": {
      "text/plain": [
       "<AxesSubplot:xlabel='remaining_loan_term', ylabel='Density'>"
      ]
     },
     "execution_count": 36,
     "metadata": {},
     "output_type": "execute_result"
    },
    {
     "data": {
      "image/png": "[encoded data removed]",
      "text/plain": [
       "<Figure size 432x288 with 1 Axes>"
      ]
     },
     "metadata": {
      "needs_background": "light"
     },
     "output_type": "display_data"
    }
   ],
   "source": [
    "sns.distplot(data['remaining_loan_term'])"
   ]
  },
  {
   "cell_type": "code",
   "execution_count": 37,
   "id": "20a95dc4",
   "metadata": {},
   "outputs": [
    {
     "name": "stderr",
     "output_type": "stream",
     "text": [
      "C:\\Users\\Manyi\\anaconda3\\lib\\site-packages\\seaborn\\_decorators.py:36: FutureWarning: Pass the following variable as a keyword arg: x. From version 0.12, the only valid positional argument will be `data`, and passing other arguments without an explicit keyword will result in an error or misinterpretation.\n",
      "  warnings.warn(\n"
     ]
    },
    {
     "data": {
      "text/plain": [
       "<AxesSubplot:xlabel='delq_history', ylabel='count'>"
      ]
     },
     "execution_count": 37,
     "metadata": {},
     "output_type": "execute_result"
    },
    {
     "data": {
      "image/png": "[encoded data removed]",
      "text/plain": [
       "<Figure size 1440x360 with 1 Axes>"
      ]
     },
     "metadata": {
      "needs_background": "light"
     },
     "output_type": "display_data"
    }
   ],
   "source": [
    "plt.figure(figsize=(20,5))\n",
    "sns.countplot(data['delq_history'])"
   ]
  },
  {
   "cell_type": "code",
   "execution_count": 38,
   "id": "66a3e54b",
   "metadata": {},
   "outputs": [
    {
     "data": {
      "image/png": "[encoded data removed]",
      "text/plain": [
       "<Figure size 720x576 with 2 Axes>"
      ]
     },
     "metadata": {
      "needs_background": "light"
     },
     "output_type": "display_data"
    }
   ],
   "source": [
    "#Correlation Analysis\n",
    "plt.figure(figsize=(10,8))\n",
    "corr = data.corr()\n",
    "sns.heatmap(corr, annot = True, cmap=\"BuPu\")\n",
    "plt.savefig('caorrelation.jpg')"
   ]
  },
  {
   "cell_type": "code",
   "execution_count": 39,
   "id": "e21e6ff8",
   "metadata": {},
   "outputs": [
    {
     "data": {
      "text/html": [
       "<div>\n",
       "<style scoped>\n",
       "    .dataframe tbody tr th:only-of-type {\n",
       "        vertical-align: middle;\n",
       "    }\n",
       "\n",
       "    .dataframe tbody tr th {\n",
       "        vertical-align: top;\n",
       "    }\n",
       "\n",
       "    .dataframe thead th {\n",
       "        text-align: right;\n",
       "    }\n",
       "</style>\n",
       "<table border=\"1\" class=\"dataframe\">\n",
       "  <thead>\n",
       "    <tr style=\"text-align: right;\">\n",
       "      <th></th>\n",
       "      <th>product</th>\n",
       "      <th>delq_history</th>\n",
       "      <th>target</th>\n",
       "      <th>monthly_income_log</th>\n",
       "      <th>closing_principal_balance_log</th>\n",
       "      <th>original_loan_amount_log</th>\n",
       "    </tr>\n",
       "  </thead>\n",
       "  <tbody>\n",
       "    <tr>\n",
       "      <th>0</th>\n",
       "      <td>B</td>\n",
       "      <td>0,0,0,0,0,0</td>\n",
       "      <td>0</td>\n",
       "      <td>8.699515</td>\n",
       "      <td>5.703782</td>\n",
       "      <td>7.495542</td>\n",
       "    </tr>\n",
       "    <tr>\n",
       "      <th>1</th>\n",
       "      <td>B</td>\n",
       "      <td>0,1,0,0,0,0</td>\n",
       "      <td>0</td>\n",
       "      <td>10.571317</td>\n",
       "      <td>8.881836</td>\n",
       "      <td>9.367344</td>\n",
       "    </tr>\n",
       "    <tr>\n",
       "      <th>2</th>\n",
       "      <td>B</td>\n",
       "      <td>0,0,1,0,0,0</td>\n",
       "      <td>0</td>\n",
       "      <td>9.798127</td>\n",
       "      <td>7.901007</td>\n",
       "      <td>8.594154</td>\n",
       "    </tr>\n",
       "    <tr>\n",
       "      <th>3</th>\n",
       "      <td>B</td>\n",
       "      <td>1,1,0,1,0,0</td>\n",
       "      <td>1</td>\n",
       "      <td>10.054060</td>\n",
       "      <td>8.268732</td>\n",
       "      <td>8.839277</td>\n",
       "    </tr>\n",
       "    <tr>\n",
       "      <th>4</th>\n",
       "      <td>B</td>\n",
       "      <td>1,0,0,0,0,0</td>\n",
       "      <td>0</td>\n",
       "      <td>9.392662</td>\n",
       "      <td>7.649693</td>\n",
       "      <td>8.188689</td>\n",
       "    </tr>\n",
       "    <tr>\n",
       "      <th>...</th>\n",
       "      <td>...</td>\n",
       "      <td>...</td>\n",
       "      <td>...</td>\n",
       "      <td>...</td>\n",
       "      <td>...</td>\n",
       "      <td>...</td>\n",
       "    </tr>\n",
       "    <tr>\n",
       "      <th>5778</th>\n",
       "      <td>A</td>\n",
       "      <td>0,0,0,0,0,0</td>\n",
       "      <td>0</td>\n",
       "      <td>9.017968</td>\n",
       "      <td>8.699515</td>\n",
       "      <td>8.699515</td>\n",
       "    </tr>\n",
       "    <tr>\n",
       "      <th>5779</th>\n",
       "      <td>C</td>\n",
       "      <td>0,0,0,0,0,0</td>\n",
       "      <td>0</td>\n",
       "      <td>7.718685</td>\n",
       "      <td>7.313220</td>\n",
       "      <td>7.313220</td>\n",
       "    </tr>\n",
       "    <tr>\n",
       "      <th>5780</th>\n",
       "      <td>D</td>\n",
       "      <td>0,0,0,0,0,0</td>\n",
       "      <td>0</td>\n",
       "      <td>8.229511</td>\n",
       "      <td>8.006368</td>\n",
       "      <td>8.006368</td>\n",
       "    </tr>\n",
       "    <tr>\n",
       "      <th>5781</th>\n",
       "      <td>D</td>\n",
       "      <td>0,0,0,0,0,0</td>\n",
       "      <td>1</td>\n",
       "      <td>9.185023</td>\n",
       "      <td>8.922658</td>\n",
       "      <td>8.922658</td>\n",
       "    </tr>\n",
       "    <tr>\n",
       "      <th>5782</th>\n",
       "      <td>C</td>\n",
       "      <td>0,0,0,0,0,0</td>\n",
       "      <td>0</td>\n",
       "      <td>7.718685</td>\n",
       "      <td>7.313220</td>\n",
       "      <td>7.313220</td>\n",
       "    </tr>\n",
       "  </tbody>\n",
       "</table>\n",
       "<p>5250 rows × 6 columns</p>\n",
       "</div>"
      ],
      "text/plain": [
       "     product delq_history  target  monthly_income_log  \\\n",
       "0          B  0,0,0,0,0,0       0            8.699515   \n",
       "1          B  0,1,0,0,0,0       0           10.571317   \n",
       "2          B  0,0,1,0,0,0       0            9.798127   \n",
       "3          B  1,1,0,1,0,0       1           10.054060   \n",
       "4          B  1,0,0,0,0,0       0            9.392662   \n",
       "...      ...          ...     ...                 ...   \n",
       "5778       A  0,0,0,0,0,0       0            9.017968   \n",
       "5779       C  0,0,0,0,0,0       0            7.718685   \n",
       "5780       D  0,0,0,0,0,0       0            8.229511   \n",
       "5781       D  0,0,0,0,0,0       1            9.185023   \n",
       "5782       C  0,0,0,0,0,0       0            7.718685   \n",
       "\n",
       "      closing_principal_balance_log  original_loan_amount_log  \n",
       "0                          5.703782                  7.495542  \n",
       "1                          8.881836                  9.367344  \n",
       "2                          7.901007                  8.594154  \n",
       "3                          8.268732                  8.839277  \n",
       "4                          7.649693                  8.188689  \n",
       "...                             ...                       ...  \n",
       "5778                       8.699515                  8.699515  \n",
       "5779                       7.313220                  7.313220  \n",
       "5780                       8.006368                  8.006368  \n",
       "5781                       8.922658                  8.922658  \n",
       "5782                       7.313220                  7.313220  \n",
       "\n",
       "[5250 rows x 6 columns]"
      ]
     },
     "execution_count": 39,
     "metadata": {},
     "output_type": "execute_result"
    }
   ],
   "source": [
    "#Drop columns with low correlation\n",
    "\n",
    "cols = ['loan_id', 'origination_score_band', 'TOB_months', 'closing_principal_balance', 'original_loan_amount', 'monthly_income', 'original_loan_term', 'remaining_loan_term']\n",
    "dataset = data.drop(columns=cols, axis=1)\n",
    "dataset"
   ]
  },
  {
   "cell_type": "code",
   "execution_count": 40,
   "id": "3c3dce20",
   "metadata": {},
   "outputs": [
    {
     "data": {
      "text/html": [
       "<div>\n",
       "<style scoped>\n",
       "    .dataframe tbody tr th:only-of-type {\n",
       "        vertical-align: middle;\n",
       "    }\n",
       "\n",
       "    .dataframe tbody tr th {\n",
       "        vertical-align: top;\n",
       "    }\n",
       "\n",
       "    .dataframe thead th {\n",
       "        text-align: right;\n",
       "    }\n",
       "</style>\n",
       "<table border=\"1\" class=\"dataframe\">\n",
       "  <thead>\n",
       "    <tr style=\"text-align: right;\">\n",
       "      <th></th>\n",
       "      <th>product</th>\n",
       "      <th>delq_history</th>\n",
       "      <th>target</th>\n",
       "      <th>monthly_income_log</th>\n",
       "      <th>closing_principal_balance_log</th>\n",
       "      <th>original_loan_amount_log</th>\n",
       "    </tr>\n",
       "  </thead>\n",
       "  <tbody>\n",
       "    <tr>\n",
       "      <th>0</th>\n",
       "      <td>B</td>\n",
       "      <td>0,0,0,0,0,0</td>\n",
       "      <td>0</td>\n",
       "      <td>8.699515</td>\n",
       "      <td>5.703782</td>\n",
       "      <td>7.495542</td>\n",
       "    </tr>\n",
       "    <tr>\n",
       "      <th>1</th>\n",
       "      <td>B</td>\n",
       "      <td>0,1,0,0,0,0</td>\n",
       "      <td>0</td>\n",
       "      <td>10.571317</td>\n",
       "      <td>8.881836</td>\n",
       "      <td>9.367344</td>\n",
       "    </tr>\n",
       "    <tr>\n",
       "      <th>2</th>\n",
       "      <td>B</td>\n",
       "      <td>0,0,1,0,0,0</td>\n",
       "      <td>0</td>\n",
       "      <td>9.798127</td>\n",
       "      <td>7.901007</td>\n",
       "      <td>8.594154</td>\n",
       "    </tr>\n",
       "    <tr>\n",
       "      <th>3</th>\n",
       "      <td>B</td>\n",
       "      <td>1,1,0,1,0,0</td>\n",
       "      <td>1</td>\n",
       "      <td>10.054060</td>\n",
       "      <td>8.268732</td>\n",
       "      <td>8.839277</td>\n",
       "    </tr>\n",
       "    <tr>\n",
       "      <th>4</th>\n",
       "      <td>B</td>\n",
       "      <td>1,0,0,0,0,0</td>\n",
       "      <td>0</td>\n",
       "      <td>9.392662</td>\n",
       "      <td>7.649693</td>\n",
       "      <td>8.188689</td>\n",
       "    </tr>\n",
       "    <tr>\n",
       "      <th>...</th>\n",
       "      <td>...</td>\n",
       "      <td>...</td>\n",
       "      <td>...</td>\n",
       "      <td>...</td>\n",
       "      <td>...</td>\n",
       "      <td>...</td>\n",
       "    </tr>\n",
       "    <tr>\n",
       "      <th>5778</th>\n",
       "      <td>A</td>\n",
       "      <td>0,0,0,0,0,0</td>\n",
       "      <td>0</td>\n",
       "      <td>9.017968</td>\n",
       "      <td>8.699515</td>\n",
       "      <td>8.699515</td>\n",
       "    </tr>\n",
       "    <tr>\n",
       "      <th>5779</th>\n",
       "      <td>C</td>\n",
       "      <td>0,0,0,0,0,0</td>\n",
       "      <td>0</td>\n",
       "      <td>7.718685</td>\n",
       "      <td>7.313220</td>\n",
       "      <td>7.313220</td>\n",
       "    </tr>\n",
       "    <tr>\n",
       "      <th>5780</th>\n",
       "      <td>D</td>\n",
       "      <td>0,0,0,0,0,0</td>\n",
       "      <td>0</td>\n",
       "      <td>8.229511</td>\n",
       "      <td>8.006368</td>\n",
       "      <td>8.006368</td>\n",
       "    </tr>\n",
       "    <tr>\n",
       "      <th>5781</th>\n",
       "      <td>D</td>\n",
       "      <td>0,0,0,0,0,0</td>\n",
       "      <td>1</td>\n",
       "      <td>9.185023</td>\n",
       "      <td>8.922658</td>\n",
       "      <td>8.922658</td>\n",
       "    </tr>\n",
       "    <tr>\n",
       "      <th>5782</th>\n",
       "      <td>C</td>\n",
       "      <td>0,0,0,0,0,0</td>\n",
       "      <td>0</td>\n",
       "      <td>7.718685</td>\n",
       "      <td>7.313220</td>\n",
       "      <td>7.313220</td>\n",
       "    </tr>\n",
       "  </tbody>\n",
       "</table>\n",
       "<p>5250 rows × 6 columns</p>\n",
       "</div>"
      ],
      "text/plain": [
       "     product delq_history  target  monthly_income_log  \\\n",
       "0          B  0,0,0,0,0,0       0            8.699515   \n",
       "1          B  0,1,0,0,0,0       0           10.571317   \n",
       "2          B  0,0,1,0,0,0       0            9.798127   \n",
       "3          B  1,1,0,1,0,0       1           10.054060   \n",
       "4          B  1,0,0,0,0,0       0            9.392662   \n",
       "...      ...          ...     ...                 ...   \n",
       "5778       A  0,0,0,0,0,0       0            9.017968   \n",
       "5779       C  0,0,0,0,0,0       0            7.718685   \n",
       "5780       D  0,0,0,0,0,0       0            8.229511   \n",
       "5781       D  0,0,0,0,0,0       1            9.185023   \n",
       "5782       C  0,0,0,0,0,0       0            7.718685   \n",
       "\n",
       "      closing_principal_balance_log  original_loan_amount_log  \n",
       "0                          5.703782                  7.495542  \n",
       "1                          8.881836                  9.367344  \n",
       "2                          7.901007                  8.594154  \n",
       "3                          8.268732                  8.839277  \n",
       "4                          7.649693                  8.188689  \n",
       "...                             ...                       ...  \n",
       "5778                       8.699515                  8.699515  \n",
       "5779                       7.313220                  7.313220  \n",
       "5780                       8.006368                  8.006368  \n",
       "5781                       8.922658                  8.922658  \n",
       "5782                       7.313220                  7.313220  \n",
       "\n",
       "[5250 rows x 6 columns]"
      ]
     },
     "execution_count": 40,
     "metadata": {},
     "output_type": "execute_result"
    }
   ],
   "source": [
    "dataset"
   ]
  },
  {
   "cell_type": "code",
   "execution_count": 41,
   "id": "228a9f46",
   "metadata": {},
   "outputs": [],
   "source": [
    "#Convert Categorical attributes to numerical attributes\n",
    "\n",
    "from sklearn.preprocessing import LabelEncoder\n",
    "cols = [\"product\",\"delq_history\"]\n",
    "le = LabelEncoder()\n",
    "for col in cols:\n",
    "    dataset[col] = le.fit_transform(data[col])"
   ]
  },
  {
   "cell_type": "code",
   "execution_count": 42,
   "id": "9bde8eb9",
   "metadata": {},
   "outputs": [
    {
     "data": {
      "text/html": [
       "<div>\n",
       "<style scoped>\n",
       "    .dataframe tbody tr th:only-of-type {\n",
       "        vertical-align: middle;\n",
       "    }\n",
       "\n",
       "    .dataframe tbody tr th {\n",
       "        vertical-align: top;\n",
       "    }\n",
       "\n",
       "    .dataframe thead th {\n",
       "        text-align: right;\n",
       "    }\n",
       "</style>\n",
       "<table border=\"1\" class=\"dataframe\">\n",
       "  <thead>\n",
       "    <tr style=\"text-align: right;\">\n",
       "      <th></th>\n",
       "      <th>product</th>\n",
       "      <th>delq_history</th>\n",
       "      <th>target</th>\n",
       "      <th>monthly_income_log</th>\n",
       "      <th>closing_principal_balance_log</th>\n",
       "      <th>original_loan_amount_log</th>\n",
       "    </tr>\n",
       "  </thead>\n",
       "  <tbody>\n",
       "    <tr>\n",
       "      <th>0</th>\n",
       "      <td>1</td>\n",
       "      <td>0</td>\n",
       "      <td>0</td>\n",
       "      <td>8.699515</td>\n",
       "      <td>5.703782</td>\n",
       "      <td>7.495542</td>\n",
       "    </tr>\n",
       "    <tr>\n",
       "      <th>1</th>\n",
       "      <td>1</td>\n",
       "      <td>13</td>\n",
       "      <td>0</td>\n",
       "      <td>10.571317</td>\n",
       "      <td>8.881836</td>\n",
       "      <td>9.367344</td>\n",
       "    </tr>\n",
       "    <tr>\n",
       "      <th>2</th>\n",
       "      <td>1</td>\n",
       "      <td>6</td>\n",
       "      <td>0</td>\n",
       "      <td>9.798127</td>\n",
       "      <td>7.901007</td>\n",
       "      <td>8.594154</td>\n",
       "    </tr>\n",
       "    <tr>\n",
       "      <th>3</th>\n",
       "      <td>1</td>\n",
       "      <td>34</td>\n",
       "      <td>1</td>\n",
       "      <td>10.054060</td>\n",
       "      <td>8.268732</td>\n",
       "      <td>8.839277</td>\n",
       "    </tr>\n",
       "    <tr>\n",
       "      <th>4</th>\n",
       "      <td>1</td>\n",
       "      <td>26</td>\n",
       "      <td>0</td>\n",
       "      <td>9.392662</td>\n",
       "      <td>7.649693</td>\n",
       "      <td>8.188689</td>\n",
       "    </tr>\n",
       "    <tr>\n",
       "      <th>...</th>\n",
       "      <td>...</td>\n",
       "      <td>...</td>\n",
       "      <td>...</td>\n",
       "      <td>...</td>\n",
       "      <td>...</td>\n",
       "      <td>...</td>\n",
       "    </tr>\n",
       "    <tr>\n",
       "      <th>5778</th>\n",
       "      <td>0</td>\n",
       "      <td>0</td>\n",
       "      <td>0</td>\n",
       "      <td>9.017968</td>\n",
       "      <td>8.699515</td>\n",
       "      <td>8.699515</td>\n",
       "    </tr>\n",
       "    <tr>\n",
       "      <th>5779</th>\n",
       "      <td>2</td>\n",
       "      <td>0</td>\n",
       "      <td>0</td>\n",
       "      <td>7.718685</td>\n",
       "      <td>7.313220</td>\n",
       "      <td>7.313220</td>\n",
       "    </tr>\n",
       "    <tr>\n",
       "      <th>5780</th>\n",
       "      <td>3</td>\n",
       "      <td>0</td>\n",
       "      <td>0</td>\n",
       "      <td>8.229511</td>\n",
       "      <td>8.006368</td>\n",
       "      <td>8.006368</td>\n",
       "    </tr>\n",
       "    <tr>\n",
       "      <th>5781</th>\n",
       "      <td>3</td>\n",
       "      <td>0</td>\n",
       "      <td>1</td>\n",
       "      <td>9.185023</td>\n",
       "      <td>8.922658</td>\n",
       "      <td>8.922658</td>\n",
       "    </tr>\n",
       "    <tr>\n",
       "      <th>5782</th>\n",
       "      <td>2</td>\n",
       "      <td>0</td>\n",
       "      <td>0</td>\n",
       "      <td>7.718685</td>\n",
       "      <td>7.313220</td>\n",
       "      <td>7.313220</td>\n",
       "    </tr>\n",
       "  </tbody>\n",
       "</table>\n",
       "<p>5250 rows × 6 columns</p>\n",
       "</div>"
      ],
      "text/plain": [
       "      product  delq_history  target  monthly_income_log  \\\n",
       "0           1             0       0            8.699515   \n",
       "1           1            13       0           10.571317   \n",
       "2           1             6       0            9.798127   \n",
       "3           1            34       1           10.054060   \n",
       "4           1            26       0            9.392662   \n",
       "...       ...           ...     ...                 ...   \n",
       "5778        0             0       0            9.017968   \n",
       "5779        2             0       0            7.718685   \n",
       "5780        3             0       0            8.229511   \n",
       "5781        3             0       1            9.185023   \n",
       "5782        2             0       0            7.718685   \n",
       "\n",
       "      closing_principal_balance_log  original_loan_amount_log  \n",
       "0                          5.703782                  7.495542  \n",
       "1                          8.881836                  9.367344  \n",
       "2                          7.901007                  8.594154  \n",
       "3                          8.268732                  8.839277  \n",
       "4                          7.649693                  8.188689  \n",
       "...                             ...                       ...  \n",
       "5778                       8.699515                  8.699515  \n",
       "5779                       7.313220                  7.313220  \n",
       "5780                       8.006368                  8.006368  \n",
       "5781                       8.922658                  8.922658  \n",
       "5782                       7.313220                  7.313220  \n",
       "\n",
       "[5250 rows x 6 columns]"
      ]
     },
     "execution_count": 42,
     "metadata": {},
     "output_type": "execute_result"
    }
   ],
   "source": [
    "dataset"
   ]
  },
  {
   "cell_type": "code",
   "execution_count": 43,
   "id": "900b05b1",
   "metadata": {},
   "outputs": [
    {
     "data": {
      "text/plain": [
       "product                            0\n",
       "delq_history                       0\n",
       "target                             0\n",
       "monthly_income_log               377\n",
       "closing_principal_balance_log    377\n",
       "original_loan_amount_log         377\n",
       "dtype: int64"
      ]
     },
     "execution_count": 43,
     "metadata": {},
     "output_type": "execute_result"
    }
   ],
   "source": [
    "dataset.isnull().sum()"
   ]
  },
  {
   "cell_type": "code",
   "execution_count": 44,
   "id": "df4092c0",
   "metadata": {},
   "outputs": [],
   "source": [
    "#Removing Null values from Log columns\n",
    "dataset['monthly_income_log'] = dataset['monthly_income_log'].fillna(data['monthly_income_log'].mean())\n",
    "dataset['closing_principal_balance_log'] = dataset['closing_principal_balance_log'].fillna(data['closing_principal_balance_log'].mean())\n",
    "dataset['original_loan_amount_log'] = dataset['original_loan_amount_log'].fillna(data['original_loan_amount_log'].mean())"
   ]
  },
  {
   "cell_type": "code",
   "execution_count": 45,
   "id": "5df632ba",
   "metadata": {},
   "outputs": [
    {
     "data": {
      "text/plain": [
       "product                          0\n",
       "delq_history                     0\n",
       "target                           0\n",
       "monthly_income_log               0\n",
       "closing_principal_balance_log    0\n",
       "original_loan_amount_log         0\n",
       "dtype: int64"
      ]
     },
     "execution_count": 45,
     "metadata": {},
     "output_type": "execute_result"
    }
   ],
   "source": [
    "dataset.isnull().sum()"
   ]
  },
  {
   "cell_type": "code",
   "execution_count": 46,
   "id": "cc3ee998",
   "metadata": {},
   "outputs": [],
   "source": [
    "#Train-Test Split\n",
    "##specifying input and output attributes\n",
    "\n",
    "x = dataset.drop(columns=['target'], axis=1)\n",
    "y = dataset['target']"
   ]
  },
  {
   "cell_type": "code",
   "execution_count": 47,
   "id": "36388714",
   "metadata": {},
   "outputs": [],
   "source": [
    "#Split Data\n",
    "\n",
    "from sklearn.model_selection import train_test_split\n",
    "x_train, x_test, y_train, y_test = train_test_split(x,y,test_size=0.25, random_state=42)"
   ]
  },
  {
   "cell_type": "code",
   "execution_count": 48,
   "id": "0c6403ce",
   "metadata": {},
   "outputs": [],
   "source": [
    "#Train Model\n",
    "\n",
    "from sklearn.model_selection import cross_val_score\n",
    "def classify(model, x, y):\n",
    "    x_train, x_test, y_train, y_test = train_test_split(x,y,test_size=0.25, random_state=42)\n",
    "    model.fit(x_train, y_train)\n",
    "    print(\"Accuracy is\", model.score(x_test, y_test)*100)\n",
    "    #Cross validation is used for better validating the model\n",
    "    #Eg. CV=5, train=4, test=1\n",
    "    score = cross_val_score(model, x, y, cv=5)\n",
    "    print(\"Cross Validation is\", np.mean(score)*100)\n",
    "    "
   ]
  },
  {
   "cell_type": "code",
   "execution_count": 49,
   "id": "75a004f6",
   "metadata": {},
   "outputs": [
    {
     "name": "stdout",
     "output_type": "stream",
     "text": [
      "Accuracy is 70.6016755521706\n",
      "Cross Validation is 70.28571428571428\n"
     ]
    }
   ],
   "source": [
    "from sklearn.linear_model import LogisticRegression\n",
    "model = LogisticRegression()\n",
    "classify(model, x, y)"
   ]
  },
  {
   "cell_type": "code",
   "execution_count": 50,
   "id": "a4ee9ae1",
   "metadata": {},
   "outputs": [
    {
     "name": "stdout",
     "output_type": "stream",
     "text": [
      "Accuracy is 77.45620715917745\n",
      "Cross Validation is 78.9904761904762\n"
     ]
    }
   ],
   "source": [
    "from sklearn.tree import DecisionTreeClassifier\n",
    "model = DecisionTreeClassifier()\n",
    "classify(model, x, y)"
   ]
  },
  {
   "cell_type": "code",
   "execution_count": 53,
   "id": "48443101",
   "metadata": {},
   "outputs": [
    {
     "name": "stdout",
     "output_type": "stream",
     "text": [
      "Accuracy is 74.94287890327494\n",
      "Cross Validation is 79.75238095238095\n"
     ]
    }
   ],
   "source": [
    "from sklearn.ensemble import RandomForestClassifier,ExtraTreesClassifier\n",
    "model = RandomForestClassifier()\n",
    "classify(model, x, y)\n"
   ]
  },
  {
   "cell_type": "code",
   "execution_count": 55,
   "id": "d05c6a46",
   "metadata": {},
   "outputs": [
    {
     "name": "stdout",
     "output_type": "stream",
     "text": [
      "Accuracy is 76.08530083777609\n",
      "Cross Validation is 79.6952380952381\n"
     ]
    }
   ],
   "source": [
    "model = ExtraTreesClassifier()\n",
    "classify(model, x, y)"
   ]
  },
  {
   "cell_type": "markdown",
   "id": "4b31f831",
   "metadata": {},
   "source": [
    "## Hyperparameter Tuning"
   ]
  },
  {
   "cell_type": "code",
   "execution_count": 61,
   "id": "2e0c5c01",
   "metadata": {},
   "outputs": [
    {
     "name": "stdout",
     "output_type": "stream",
     "text": [
      "Accuracy is 71.82025894897181\n",
      "Cross Validation is 72.89523809523808\n"
     ]
    }
   ],
   "source": [
    "model = RandomForestClassifier(n_estimators=100, min_samples_split=25, max_depth=7, max_features=1)\n",
    "classify(model, x, y)"
   ]
  },
  {
   "cell_type": "markdown",
   "id": "7a56c6ee",
   "metadata": {},
   "source": [
    "## Confusion Matrix\n",
    "The Summary of prediction results on a classification problem. The number of correct and incorrect predictions are summarized with count values and broken down by each class. It gives insight, not only into the errors being made by classifier but more importantly the types of errors that are being made."
   ]
  },
  {
   "cell_type": "code",
   "execution_count": 58,
   "id": "7a0caf81",
   "metadata": {},
   "outputs": [
    {
     "data": {
      "text/plain": [
       "RandomForestClassifier()"
      ]
     },
     "execution_count": 58,
     "metadata": {},
     "output_type": "execute_result"
    }
   ],
   "source": [
    "model = RandomForestClassifier()\n",
    "model.fit(x_train, y_train)"
   ]
  },
  {
   "cell_type": "code",
   "execution_count": 59,
   "id": "27111667",
   "metadata": {},
   "outputs": [
    {
     "data": {
      "text/plain": [
       "array([[813, 110],\n",
       "       [212, 178]], dtype=int64)"
      ]
     },
     "execution_count": 59,
     "metadata": {},
     "output_type": "execute_result"
    }
   ],
   "source": [
    "from sklearn.metrics import confusion_matrix\n",
    "y_pred = model.predict(x_test)\n",
    "cm = confusion_matrix(y_test, y_pred)\n",
    "cm"
   ]
  },
  {
   "cell_type": "code",
   "execution_count": 60,
   "id": "f34abadc",
   "metadata": {},
   "outputs": [
    {
     "data": {
      "text/plain": [
       "<AxesSubplot:>"
      ]
     },
     "execution_count": 60,
     "metadata": {},
     "output_type": "execute_result"
    },
    {
     "data": {
      "image/png": "[encoded data removed]",
      "text/plain": [
       "<Figure size 432x288 with 2 Axes>"
      ]
     },
     "metadata": {
      "needs_background": "light"
     },
     "output_type": "display_data"
    }
   ],
   "source": [
    "sns.heatmap(cm, annot=True)"
   ]
  },
  {
   "cell_type": "code",
   "execution_count": null,
   "id": "3f324420",
   "metadata": {},
   "outputs": [],
   "source": []
  }
 ],
 "metadata": {
  "kernelspec": {
   "display_name": "Python 3 (ipykernel)",
   "language": "python",
   "name": "python3"
  },
  "language_info": {
   "codemirror_mode": {
    "name": "ipython",
    "version": 3
   },
   "file_extension": ".py",
   "mimetype": "text/x-python",
   "name": "python",
   "nbconvert_exporter": "python",
   "pygments_lexer": "ipython3",
   "version": "3.9.12"
  }
 },
 "nbformat": 4,
 "nbformat_minor": 5
}
